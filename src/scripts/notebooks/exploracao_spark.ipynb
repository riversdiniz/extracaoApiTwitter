{
 "cells": [
  {
   "cell_type": "code",
   "execution_count": 1,
   "metadata": {},
   "outputs": [
    {
     "name": "stdout",
     "output_type": "stream",
     "text": [
      "Collecting pyspark==3.3.1\n",
      "  Downloading pyspark-3.3.1.tar.gz (281.4 MB)\n",
      "\u001b[K     |████████████████████████████████| 281.4 MB 11 kB/s s eta 0:00:01   |█▎                              | 11.3 MB 2.7 MB/s eta 0:01:40     |██▍                             | 21.4 MB 6.0 MB/s eta 0:00:44     |███                             | 27.1 MB 4.0 MB/s eta 0:01:04     |███▌                            | 31.2 MB 3.8 MB/s eta 0:01:07     |██████                          | 53.0 MB 1.5 MB/s eta 0:02:32     |██████▍                         | 56.1 MB 1.5 MB/s eta 0:02:30     |██████▍                         | 56.3 MB 1.5 MB/s eta 0:02:30     |███████▍                        | 64.6 MB 2.9 MB/s eta 0:01:14     |██████████▌                     | 92.5 MB 11.8 MB/s eta 0:00:17     |████████████▏                   | 106.7 MB 4.1 MB/s eta 0:00:43     |██████████████                  | 122.8 MB 14.0 MB/s eta 0:00:12     |██████████████▌                 | 127.6 MB 14.0 MB/s eta 0:00:11     |███████████████                 | 132.8 MB 14.0 MB/s eta 0:00:11     |███████████████▌                | 136.3 MB 6.7 MB/s eta 0:00:22��█               | 149.7 MB 11.1 MB/s eta 0:00:12     |███████████████████▌            | 171.6 MB 8.2 MB/s eta 0:00:14        | 198.1 MB 18.6 MB/s eta 0:00:05     |████████████████████████▋       | 215.9 MB 15.5 MB/s eta 0:00:05     |████████████████████████▋       | 216.5 MB 15.5 MB/s eta 0:00:05     |█████████████████████████▍      | 223.6 MB 16.4 MB/s eta 0:00:04     |█████████████████████████▉      | 227.0 MB 16.4 MB/s eta 0:00:04MB/s eta 0:00:04     |███████████████████████████▏    | 239.3 MB 11.6 MB/s eta 0:00:04��███████████████████▋   | 251.5 MB 6.2 MB/s eta 0:00:05     |█████████████████████████████   | 255.5 MB 6.2 MB/s eta 0:00:05     |█████████████████████████████   | 255.9 MB 6.2 MB/s eta 0:00:05\n",
      "\u001b[?25hCollecting py4j==0.10.9.5\n",
      "  Downloading py4j-0.10.9.5-py2.py3-none-any.whl (199 kB)\n",
      "\u001b[K     |████████████████████████████████| 199 kB 1.3 MB/s eta 0:00:01\n",
      "\u001b[?25hBuilding wheels for collected packages: pyspark\n",
      "  Building wheel for pyspark (setup.py) ... \u001b[?25lerror\n",
      "\u001b[31m  ERROR: Command errored out with exit status 1:\n",
      "   command: /home/river/Documentos/airflowalura/venv/bin/python -u -c 'import sys, setuptools, tokenize; sys.argv[0] = '\"'\"'/tmp/pip-install-r0na8g1_/pyspark/setup.py'\"'\"'; __file__='\"'\"'/tmp/pip-install-r0na8g1_/pyspark/setup.py'\"'\"';f=getattr(tokenize, '\"'\"'open'\"'\"', open)(__file__);code=f.read().replace('\"'\"'\\r\\n'\"'\"', '\"'\"'\\n'\"'\"');f.close();exec(compile(code, __file__, '\"'\"'exec'\"'\"'))' bdist_wheel -d /tmp/pip-wheel-5bpvjvn6\n",
      "       cwd: /tmp/pip-install-r0na8g1_/pyspark/\n",
      "  Complete output (6 lines):\n",
      "  usage: setup.py [global_opts] cmd1 [cmd1_opts] [cmd2 [cmd2_opts] ...]\n",
      "     or: setup.py --help [cmd1 cmd2 ...]\n",
      "     or: setup.py --help-commands\n",
      "     or: setup.py cmd --help\n",
      "  \n",
      "  error: invalid command 'bdist_wheel'\n",
      "  ----------------------------------------\u001b[0m\n",
      "\u001b[31m  ERROR: Failed building wheel for pyspark\u001b[0m\n",
      "\u001b[?25h  Running setup.py clean for pyspark\n",
      "Failed to build pyspark\n",
      "Installing collected packages: py4j, pyspark\n",
      "    Running setup.py install for pyspark ... \u001b[?25ldone\n",
      "\u001b[?25hSuccessfully installed py4j-0.10.9.5 pyspark-3.3.1\n",
      "Note: you may need to restart the kernel to use updated packages.\n"
     ]
    }
   ],
   "source": [
    "pip install pyspark==3.3.1"
   ]
  },
  {
   "cell_type": "code",
   "execution_count": 2,
   "metadata": {},
   "outputs": [],
   "source": [
    "from pyspark.sql import SparkSession"
   ]
  },
  {
   "cell_type": "code",
   "execution_count": 5,
   "metadata": {},
   "outputs": [
    {
     "name": "stdout",
     "output_type": "stream",
     "text": [
      "23/01/16 15:01:11 WARN Utils: Your hostname, river-virtual-machine resolves to a loopback address: 127.0.1.1; using 192.168.133.128 instead (on interface ens33)\n",
      "23/01/16 15:01:11 WARN Utils: Set SPARK_LOCAL_IP if you need to bind to another address\n"
     ]
    },
    {
     "name": "stderr",
     "output_type": "stream",
     "text": [
      "Setting default log level to \"WARN\".\n",
      "To adjust logging level use sc.setLogLevel(newLevel). For SparkR, use setLogLevel(newLevel).\n"
     ]
    },
    {
     "name": "stdout",
     "output_type": "stream",
     "text": [
      "23/01/16 15:01:13 WARN NativeCodeLoader: Unable to load native-hadoop library for your platform... using builtin-java classes where applicable\n"
     ]
    }
   ],
   "source": [
    "spark = SparkSession\\\n",
    "    .builder\\\n",
    "    .appName(\"twitter_transformation\")\\\n",
    "    .getOrCreate()"
   ]
  },
  {
   "cell_type": "code",
   "execution_count": 7,
   "metadata": {},
   "outputs": [
    {
     "name": "stderr",
     "output_type": "stream",
     "text": [
      "                                                                                \r"
     ]
    }
   ],
   "source": [
    "df = spark.read.json(\"../../../datalake/twitter_datascience\")"
   ]
  },
  {
   "cell_type": "code",
   "execution_count": 8,
   "metadata": {},
   "outputs": [
    {
     "name": "stdout",
     "output_type": "stream",
     "text": [
      "+--------------------+--------------------+--------------------+------------+\n",
      "|                data|            includes|                meta|extract_date|\n",
      "+--------------------+--------------------+--------------------+------------+\n",
      "|[{737142202481016...|{[{2016-05-30T04:...|{1614960801781252...|  2023-01-16|\n",
      "|[{156551075009305...|{[{2022-09-02T01:...|{1614960439531819...|  2023-01-16|\n",
      "|[{161308754706814...|{[{2023-01-11T08:...|{1614960279242276...|  2023-01-16|\n",
      "|[{109402247573690...|{[{2019-02-08T23:...|{1614960021451976...|  2023-01-16|\n",
      "|[{101181765595789...|{[{2018-06-27T03:...|{1614959798633795...|  2023-01-16|\n",
      "|[{137155121135112...|{[{2021-03-15T19:...|{1614959535180898...|  2023-01-16|\n",
      "|[{142970475005707...|{[{2021-08-23T07:...|{1614959337641762...|  2023-01-16|\n",
      "|[{18570502, 16149...|{[{2009-01-03T02:...|{1614959152417079...|  2023-01-16|\n",
      "|[{161308682069857...|{[{2023-01-11T08:...|{1614958997207154...|  2023-01-16|\n",
      "|[{130630626775391...|{[{2020-09-16T18:...|{1614958862225838...|  2023-01-16|\n",
      "|[{156427177422900...|{[{2022-08-29T15:...|{1614958678876258...|  2023-01-16|\n",
      "|[{928368301755064...|{[{2017-11-08T21:...|{1614958516157939...|  2023-01-16|\n",
      "|[{138155154308270...|{[{2021-04-12T10:...|{1614958341955936...|  2023-01-16|\n",
      "|[{912927251926151...|{[{2017-09-27T06:...|{1614958256614690...|  2023-01-16|\n",
      "|[{107705571895873...|{[{2018-12-24T04:...|{1614958148502142...|  2023-01-16|\n",
      "|[{154576577748311...|{[{2022-07-09T13:...|{1614958064699936...|  2023-01-16|\n",
      "|[{140386175480804...|{[{2021-06-12T23:...|{1614957804309061...|  2023-01-16|\n",
      "|[{109402247573690...|{[{2019-02-08T23:...|{1614957462322298...|  2023-01-16|\n",
      "|[{138896364965459...|{[{2021-05-02T21:...|{1614957261566234...|  2023-01-16|\n",
      "|[{435748709, 1614...|{[{2011-12-13T11:...|{1614957128887992...|  2023-01-16|\n",
      "+--------------------+--------------------+--------------------+------------+\n",
      "only showing top 20 rows\n",
      "\n"
     ]
    },
    {
     "name": "stderr",
     "output_type": "stream",
     "text": [
      "                                                                                \r"
     ]
    }
   ],
   "source": [
    "df.show()"
   ]
  }
 ],
 "metadata": {
  "kernelspec": {
   "display_name": "venv",
   "language": "python",
   "name": "python3"
  },
  "language_info": {
   "codemirror_mode": {
    "name": "ipython",
    "version": 3
   },
   "file_extension": ".py",
   "mimetype": "text/x-python",
   "name": "python",
   "nbconvert_exporter": "python",
   "pygments_lexer": "ipython3",
   "version": "3.9.5"
  },
  "orig_nbformat": 4,
  "vscode": {
   "interpreter": {
    "hash": "e4f2685d1d1f39175c3ec7e02e4717003452ddf86399d24cbb6e40ff036540e7"
   }
  }
 },
 "nbformat": 4,
 "nbformat_minor": 2
}
