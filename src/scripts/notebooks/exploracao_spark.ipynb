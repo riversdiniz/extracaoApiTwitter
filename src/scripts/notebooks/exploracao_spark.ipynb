{
 "cells": [
  {
   "cell_type": "code",
   "execution_count": null,
   "metadata": {},
   "outputs": [],
   "source": [
    "pip install pyspark==3.3.1"
   ]
  },
  {
   "cell_type": "code",
   "execution_count": 2,
   "metadata": {},
   "outputs": [],
   "source": [
    "from pyspark.sql import SparkSession"
   ]
  },
  {
   "cell_type": "code",
   "execution_count": null,
   "metadata": {},
   "outputs": [],
   "source": [
    "spark = SparkSession\\\n",
    "    .builder\\\n",
    "    .appName(\"twitter_transformation\")\\\n",
    "    .getOrCreate()"
   ]
  },
  {
   "cell_type": "code",
   "execution_count": 7,
   "metadata": {},
   "outputs": [
    {
     "name": "stderr",
     "output_type": "stream",
     "text": [
      "                                                                                \r"
     ]
    }
   ],
   "source": [
    "df = spark.read.json(\"../../../datalake/twitter_datascience\")"
   ]
  },
  {
   "cell_type": "code",
   "execution_count": 8,
   "metadata": {},
   "outputs": [
    {
     "name": "stdout",
     "output_type": "stream",
     "text": [
      "+--------------------+--------------------+--------------------+------------+\n",
      "|                data|            includes|                meta|extract_date|\n",
      "+--------------------+--------------------+--------------------+------------+\n",
      "|[{737142202481016...|{[{2016-05-30T04:...|{1614960801781252...|  2023-01-16|\n",
      "|[{156551075009305...|{[{2022-09-02T01:...|{1614960439531819...|  2023-01-16|\n",
      "|[{161308754706814...|{[{2023-01-11T08:...|{1614960279242276...|  2023-01-16|\n",
      "|[{109402247573690...|{[{2019-02-08T23:...|{1614960021451976...|  2023-01-16|\n",
      "|[{101181765595789...|{[{2018-06-27T03:...|{1614959798633795...|  2023-01-16|\n",
      "|[{137155121135112...|{[{2021-03-15T19:...|{1614959535180898...|  2023-01-16|\n",
      "|[{142970475005707...|{[{2021-08-23T07:...|{1614959337641762...|  2023-01-16|\n",
      "|[{18570502, 16149...|{[{2009-01-03T02:...|{1614959152417079...|  2023-01-16|\n",
      "|[{161308682069857...|{[{2023-01-11T08:...|{1614958997207154...|  2023-01-16|\n",
      "|[{130630626775391...|{[{2020-09-16T18:...|{1614958862225838...|  2023-01-16|\n",
      "|[{156427177422900...|{[{2022-08-29T15:...|{1614958678876258...|  2023-01-16|\n",
      "|[{928368301755064...|{[{2017-11-08T21:...|{1614958516157939...|  2023-01-16|\n",
      "|[{138155154308270...|{[{2021-04-12T10:...|{1614958341955936...|  2023-01-16|\n",
      "|[{912927251926151...|{[{2017-09-27T06:...|{1614958256614690...|  2023-01-16|\n",
      "|[{107705571895873...|{[{2018-12-24T04:...|{1614958148502142...|  2023-01-16|\n",
      "|[{154576577748311...|{[{2022-07-09T13:...|{1614958064699936...|  2023-01-16|\n",
      "|[{140386175480804...|{[{2021-06-12T23:...|{1614957804309061...|  2023-01-16|\n",
      "|[{109402247573690...|{[{2019-02-08T23:...|{1614957462322298...|  2023-01-16|\n",
      "|[{138896364965459...|{[{2021-05-02T21:...|{1614957261566234...|  2023-01-16|\n",
      "|[{435748709, 1614...|{[{2011-12-13T11:...|{1614957128887992...|  2023-01-16|\n",
      "+--------------------+--------------------+--------------------+------------+\n",
      "only showing top 20 rows\n",
      "\n"
     ]
    },
    {
     "name": "stderr",
     "output_type": "stream",
     "text": [
      "                                                                                \r"
     ]
    }
   ],
   "source": [
    "df.show()"
   ]
  },
  {
   "cell_type": "code",
   "execution_count": 10,
   "metadata": {},
   "outputs": [
    {
     "name": "stdout",
     "output_type": "stream",
     "text": [
      "root\n",
      " |-- data: array (nullable = true)\n",
      " |    |-- element: struct (containsNull = true)\n",
      " |    |    |-- author_id: string (nullable = true)\n",
      " |    |    |-- conversation_id: string (nullable = true)\n",
      " |    |    |-- created_at: string (nullable = true)\n",
      " |    |    |-- edit_history_tweet_ids: array (nullable = true)\n",
      " |    |    |    |-- element: string (containsNull = true)\n",
      " |    |    |-- id: string (nullable = true)\n",
      " |    |    |-- in_reply_to_user_id: string (nullable = true)\n",
      " |    |    |-- lang: string (nullable = true)\n",
      " |    |    |-- public_metrics: struct (nullable = true)\n",
      " |    |    |    |-- impression_count: long (nullable = true)\n",
      " |    |    |    |-- like_count: long (nullable = true)\n",
      " |    |    |    |-- quote_count: long (nullable = true)\n",
      " |    |    |    |-- reply_count: long (nullable = true)\n",
      " |    |    |    |-- retweet_count: long (nullable = true)\n",
      " |    |    |-- text: string (nullable = true)\n",
      " |-- includes: struct (nullable = true)\n",
      " |    |-- users: array (nullable = true)\n",
      " |    |    |-- element: struct (containsNull = true)\n",
      " |    |    |    |-- created_at: string (nullable = true)\n",
      " |    |    |    |-- id: string (nullable = true)\n",
      " |    |    |    |-- name: string (nullable = true)\n",
      " |    |    |    |-- username: string (nullable = true)\n",
      " |-- meta: struct (nullable = true)\n",
      " |    |-- newest_id: string (nullable = true)\n",
      " |    |-- next_token: string (nullable = true)\n",
      " |    |-- oldest_id: string (nullable = true)\n",
      " |    |-- result_count: long (nullable = true)\n",
      " |-- extract_date: date (nullable = true)\n",
      "\n"
     ]
    }
   ],
   "source": [
    "df.printSchema()"
   ]
  },
  {
   "cell_type": "code",
   "execution_count": 11,
   "metadata": {},
   "outputs": [],
   "source": [
    "from pyspark.sql import functions as f"
   ]
  },
  {
   "cell_type": "code",
   "execution_count": 12,
   "metadata": {},
   "outputs": [
    {
     "name": "stdout",
     "output_type": "stream",
     "text": [
      "root\n",
      " |-- col: struct (nullable = true)\n",
      " |    |-- author_id: string (nullable = true)\n",
      " |    |-- conversation_id: string (nullable = true)\n",
      " |    |-- created_at: string (nullable = true)\n",
      " |    |-- edit_history_tweet_ids: array (nullable = true)\n",
      " |    |    |-- element: string (containsNull = true)\n",
      " |    |-- id: string (nullable = true)\n",
      " |    |-- in_reply_to_user_id: string (nullable = true)\n",
      " |    |-- lang: string (nullable = true)\n",
      " |    |-- public_metrics: struct (nullable = true)\n",
      " |    |    |-- impression_count: long (nullable = true)\n",
      " |    |    |-- like_count: long (nullable = true)\n",
      " |    |    |-- quote_count: long (nullable = true)\n",
      " |    |    |-- reply_count: long (nullable = true)\n",
      " |    |    |-- retweet_count: long (nullable = true)\n",
      " |    |-- text: string (nullable = true)\n",
      "\n"
     ]
    }
   ],
   "source": [
    "df.select(f.explode(\"data\")).printSchema()"
   ]
  },
  {
   "cell_type": "code",
   "execution_count": 13,
   "metadata": {},
   "outputs": [
    {
     "name": "stdout",
     "output_type": "stream",
     "text": [
      "+--------------------+\n",
      "|                 col|\n",
      "+--------------------+\n",
      "|{7371422024810168...|\n",
      "|{2603796666, 1614...|\n",
      "|{29726352, 161496...|\n",
      "|{555031989, 16149...|\n",
      "|{1608405925886304...|\n",
      "|{257840966, 16149...|\n",
      "|{1041973326351151...|\n",
      "|{1565510750093058...|\n",
      "|{1565510750093058...|\n",
      "|{1440322201576636...|\n",
      "|{1565510750093058...|\n",
      "|{1565510750093058...|\n",
      "|{1565510750093058...|\n",
      "|{1565510750093058...|\n",
      "|{1613087547068145...|\n",
      "|{1565510750093058...|\n",
      "|{3267250213, 1614...|\n",
      "|{619948731, 16149...|\n",
      "|{1094022475736903...|\n",
      "|{1613087547068145...|\n",
      "+--------------------+\n",
      "only showing top 20 rows\n",
      "\n"
     ]
    }
   ],
   "source": [
    "df.select(f.explode(\"data\")).show()"
   ]
  },
  {
   "cell_type": "code",
   "execution_count": 14,
   "metadata": {},
   "outputs": [
    {
     "name": "stdout",
     "output_type": "stream",
     "text": [
      "root\n",
      " |-- author_id: string (nullable = true)\n",
      " |-- conversation_id: string (nullable = true)\n",
      " |-- created_at: string (nullable = true)\n",
      " |-- id: string (nullable = true)\n",
      " |-- impression_count: long (nullable = true)\n",
      " |-- like_count: long (nullable = true)\n",
      " |-- quote_count: long (nullable = true)\n",
      " |-- reply_count: long (nullable = true)\n",
      " |-- retweet_count: long (nullable = true)\n",
      " |-- text: string (nullable = true)\n",
      "\n"
     ]
    }
   ],
   "source": [
    "df.select(f.explode(\"data\").alias(\"tweets\"))\\\n",
    "    .select(\"tweets.author_id\", \"tweets.conversation_id\",\n",
    "    \"tweets.created_at\", \"tweets.id\",\n",
    "    \"tweets.public_metrics.*\", \"tweets.text\").printSchema()"
   ]
  },
  {
   "cell_type": "code",
   "execution_count": 21,
   "metadata": {},
   "outputs": [],
   "source": [
    "tweet_df = df.select(f.explode(\"data\").alias(\"tweets\"))\\\n",
    "    .select(\"tweets.author_id\", \"tweets.conversation_id\",\n",
    "    \"tweets.created_at\", \"tweets.id\",\n",
    "    \"tweets.public_metrics.*\", \"tweets.text\")"
   ]
  },
  {
   "cell_type": "code",
   "execution_count": 22,
   "metadata": {},
   "outputs": [
    {
     "name": "stdout",
     "output_type": "stream",
     "text": [
      "+-------------------+-------------------+--------------------+-------------------+----------------+----------+-----------+-----------+-------------+--------------------+\n",
      "|          author_id|    conversation_id|          created_at|                 id|impression_count|like_count|quote_count|reply_count|retweet_count|                text|\n",
      "+-------------------+-------------------+--------------------+-------------------+----------------+----------+-----------+-----------+-------------+--------------------+\n",
      "| 737142202481016832|1614960801781252098|2023-01-16T12:20:...|1614960801781252098|               0|         0|          0|          0|           56|RT @Khulood_Alman...|\n",
      "|         2603796666|1614960729500835846|2023-01-16T12:20:...|1614960729500835846|               0|         0|          0|          0|          257|RT @DataScienceDo...|\n",
      "|           29726352|1614960686169300992|2023-01-16T12:20:...|1614960686169300992|              96|         0|          0|          0|            0|Defence Data Anal...|\n",
      "|          555031989|1614960662878339075|2023-01-16T12:20:...|1614960662878339075|             917|         6|          0|          1|            1|Solving brain dyn...|\n",
      "|1608405925886304257|1614960591260774401|2023-01-16T12:19:...|1614960591260774401|               2|         0|          0|          0|            0|Education is part...|\n",
      "|          257840966|1614960475934183426|2023-01-16T12:19:...|1614960475934183426|               0|         0|          0|          0|            4|RT @robinlovelace...|\n",
      "|1041973326351151105|1614960460297654273|2023-01-16T12:19:...|1614960460297654273|               0|         0|          0|          0|           26|RT @sallyeaves: C...|\n",
      "|1565510750093058048|1614960459081474050|2023-01-16T12:19:...|1614960459081474050|               0|         0|          0|          0|          131|RT @ratingology: ...|\n",
      "|1565510750093058048|1614960450713657344|2023-01-16T12:19:...|1614960450713657344|               0|         0|          0|          0|          131|RT @ratingology: ...|\n",
      "|1440322201576636419|1614960442476228608|2023-01-16T12:19:...|1614960442476228608|               0|         0|          0|          0|            5|RT @thisisgulshan...|\n",
      "|1565510750093058048|1614960439531819008|2023-01-16T12:19:...|1614960439531819008|               0|         0|          0|          0|          128|RT @ratingology: ...|\n",
      "|1565510750093058048|1614960418971357185|2023-01-16T12:19:...|1614960418971357185|               0|         0|          0|          0|          128|RT @ratingology: ...|\n",
      "|1565510750093058048|1614960398876430337|2023-01-16T12:18:...|1614960398876430337|               0|         0|          0|          0|          143|RT @ratingology: ...|\n",
      "|1565510750093058048|1614960385597243402|2023-01-16T12:18:...|1614960385597243402|               0|         0|          0|          0|          138|RT @ratingology: ...|\n",
      "|1613087547068145665|1614960378181746691|2023-01-16T12:18:...|1614960378181746691|               0|         0|          0|          0|          134|RT @ratingology: ...|\n",
      "|1565510750093058048|1614960341229924352|2023-01-16T12:18:...|1614960341229924352|               0|         0|          0|          0|          134|RT @ratingology: ...|\n",
      "|         3267250213|1614960335072677890|2023-01-16T12:18:...|1614960335072677890|               0|         0|          0|          0|           68|RT @DataScienceDo...|\n",
      "|          619948731|1614960324423172098|2023-01-16T12:18:...|1614960324423172098|               0|         0|          0|          0|           13|RT @robinlovelace...|\n",
      "|1094022475736903687|1614960323995254784|2023-01-16T12:18:...|1614960323995254784|              55|         1|          0|          0|            0|تعرف على تخصص نظم...|\n",
      "|1613087547068145665|1614960293012201472|2023-01-16T12:18:...|1614960293012201472|               0|         0|          0|          0|          138|RT @ratingology: ...|\n",
      "+-------------------+-------------------+--------------------+-------------------+----------------+----------+-----------+-----------+-------------+--------------------+\n",
      "only showing top 20 rows\n",
      "\n"
     ]
    }
   ],
   "source": [
    "tweet_df.show()"
   ]
  }
 ],
 "metadata": {
  "kernelspec": {
   "display_name": "venv",
   "language": "python",
   "name": "python3"
  },
  "language_info": {
   "codemirror_mode": {
    "name": "ipython",
    "version": 3
   },
   "file_extension": ".py",
   "mimetype": "text/x-python",
   "name": "python",
   "nbconvert_exporter": "python",
   "pygments_lexer": "ipython3",
   "version": "3.9.5"
  },
  "orig_nbformat": 4,
  "vscode": {
   "interpreter": {
    "hash": "e4f2685d1d1f39175c3ec7e02e4717003452ddf86399d24cbb6e40ff036540e7"
   }
  }
 },
 "nbformat": 4,
 "nbformat_minor": 2
}
